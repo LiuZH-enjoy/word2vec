{
 "cells": [
  {
   "cell_type": "code",
   "execution_count": 2,
   "metadata": {
    "pycharm": {
     "is_executing": false
    }
   },
   "outputs": [],
   "source": [
    "import torch\n",
    "import numpy as np\n",
    "import torch.nn as nn\n",
    "import torch.optim as optim\n",
    "import matplotlib.pyplot as plt\n",
    "import torch.utils.data as Data\n",
    "\n",
    "dtype = torch.FloatTensor\n",
    "device = torch.device(\"cuda\" if torch.cuda.is_available() else \"cpu\")"
   ]
  },
  {
   "cell_type": "markdown",
   "metadata": {},
   "source": [
    "### 文本预处理"
   ]
  },
  {
   "cell_type": "code",
   "execution_count": 2,
   "metadata": {},
   "outputs": [],
   "source": [
    "sentences = [\"jack like dog\", \"jack like cat\", \"jack like animal\",\n",
    "  \"dog cat animal\", \"banana apple cat dog like\", \"dog fish milk like\",\n",
    "  \"dog cat animal like\", \"jack like apple\", \"apple like\", \"jack like banana\",\n",
    "  \"apple banana jack movie book music like\", \"cat dog hate\", \"cat dog like\"]"
   ]
  },
  {
   "cell_type": "code",
   "execution_count": 3,
   "metadata": {},
   "outputs": [],
   "source": [
    "word_sequence = \" \".join(sentences).split()"
   ]
  },
  {
   "cell_type": "code",
   "execution_count": 4,
   "metadata": {
    "collapsed": true,
    "jupyter": {
     "outputs_hidden": true
    }
   },
   "outputs": [
    {
     "data": {
      "text/plain": [
       "['jack',\n",
       " 'like',\n",
       " 'dog',\n",
       " 'jack',\n",
       " 'like',\n",
       " 'cat',\n",
       " 'jack',\n",
       " 'like',\n",
       " 'animal',\n",
       " 'dog',\n",
       " 'cat',\n",
       " 'animal',\n",
       " 'banana',\n",
       " 'apple',\n",
       " 'cat',\n",
       " 'dog',\n",
       " 'like',\n",
       " 'dog',\n",
       " 'fish',\n",
       " 'milk',\n",
       " 'like',\n",
       " 'dog',\n",
       " 'cat',\n",
       " 'animal',\n",
       " 'like',\n",
       " 'jack',\n",
       " 'like',\n",
       " 'apple',\n",
       " 'apple',\n",
       " 'like',\n",
       " 'jack',\n",
       " 'like',\n",
       " 'banana',\n",
       " 'apple',\n",
       " 'banana',\n",
       " 'jack',\n",
       " 'movie',\n",
       " 'book',\n",
       " 'music',\n",
       " 'like',\n",
       " 'cat',\n",
       " 'dog',\n",
       " 'hate',\n",
       " 'cat',\n",
       " 'dog',\n",
       " 'like']"
      ]
     },
     "execution_count": 4,
     "metadata": {},
     "output_type": "execute_result"
    }
   ],
   "source": [
    "word_sequence"
   ]
  },
  {
   "cell_type": "code",
   "execution_count": 5,
   "metadata": {},
   "outputs": [],
   "source": [
    "vocab = list(set(word_sequence))"
   ]
  },
  {
   "cell_type": "code",
   "execution_count": 6,
   "metadata": {
    "collapsed": true,
    "jupyter": {
     "outputs_hidden": true
    }
   },
   "outputs": [
    {
     "data": {
      "text/plain": [
       "['cat',\n",
       " 'book',\n",
       " 'like',\n",
       " 'banana',\n",
       " 'apple',\n",
       " 'milk',\n",
       " 'hate',\n",
       " 'fish',\n",
       " 'dog',\n",
       " 'music',\n",
       " 'movie',\n",
       " 'animal',\n",
       " 'jack']"
      ]
     },
     "execution_count": 6,
     "metadata": {},
     "output_type": "execute_result"
    }
   ],
   "source": [
    "vocab"
   ]
  },
  {
   "cell_type": "code",
   "execution_count": 7,
   "metadata": {},
   "outputs": [],
   "source": [
    "word2idx = {w:i for i, w in enumerate(vocab)}"
   ]
  },
  {
   "cell_type": "code",
   "execution_count": 8,
   "metadata": {
    "collapsed": true,
    "jupyter": {
     "outputs_hidden": true
    }
   },
   "outputs": [
    {
     "data": {
      "text/plain": [
       "{'cat': 0,\n",
       " 'book': 1,\n",
       " 'like': 2,\n",
       " 'banana': 3,\n",
       " 'apple': 4,\n",
       " 'milk': 5,\n",
       " 'hate': 6,\n",
       " 'fish': 7,\n",
       " 'dog': 8,\n",
       " 'music': 9,\n",
       " 'movie': 10,\n",
       " 'animal': 11,\n",
       " 'jack': 12}"
      ]
     },
     "execution_count": 8,
     "metadata": {},
     "output_type": "execute_result"
    }
   ],
   "source": [
    "word2idx"
   ]
  },
  {
   "cell_type": "markdown",
   "metadata": {},
   "source": [
    "### 相关参数设置"
   ]
  },
  {
   "cell_type": "code",
   "execution_count": 9,
   "metadata": {},
   "outputs": [],
   "source": [
    "batch_size = 8\n",
    "embedding_size = 2\n",
    "C = 2 # window size\n",
    "voc_size = len(vocab)"
   ]
  },
  {
   "cell_type": "markdown",
   "metadata": {},
   "source": [
    "### 数据预处理"
   ]
  },
  {
   "cell_type": "code",
   "execution_count": 10,
   "metadata": {},
   "outputs": [],
   "source": [
    "skip_grams = []\n",
    "for idx in range(C, len(word_sequence)-C):\n",
    "    center = word2idx[word_sequence[idx]]\n",
    "    context_idx = list(range(idx-C, idx)) + list(range(idx+1, idx+C+1))\n",
    "    context = [word2idx[word_sequence[i]] for i in context_idx]\n",
    "    for w in context:\n",
    "        skip_grams.append([center, w])"
   ]
  },
  {
   "cell_type": "code",
   "execution_count": 11,
   "metadata": {
    "collapsed": true,
    "jupyter": {
     "outputs_hidden": true
    }
   },
   "outputs": [
    {
     "data": {
      "text/plain": [
       "[[8, 12],\n",
       " [8, 2],\n",
       " [8, 12],\n",
       " [8, 2],\n",
       " [12, 2],\n",
       " [12, 8],\n",
       " [12, 2],\n",
       " [12, 0],\n",
       " [2, 8],\n",
       " [2, 12],\n",
       " [2, 0],\n",
       " [2, 12],\n",
       " [0, 12],\n",
       " [0, 2],\n",
       " [0, 12],\n",
       " [0, 2],\n",
       " [12, 2],\n",
       " [12, 0],\n",
       " [12, 2],\n",
       " [12, 11],\n",
       " [2, 0],\n",
       " [2, 12],\n",
       " [2, 11],\n",
       " [2, 8],\n",
       " [11, 12],\n",
       " [11, 2],\n",
       " [11, 8],\n",
       " [11, 0],\n",
       " [8, 2],\n",
       " [8, 11],\n",
       " [8, 0],\n",
       " [8, 11],\n",
       " [0, 11],\n",
       " [0, 8],\n",
       " [0, 11],\n",
       " [0, 3],\n",
       " [11, 8],\n",
       " [11, 0],\n",
       " [11, 3],\n",
       " [11, 4],\n",
       " [3, 0],\n",
       " [3, 11],\n",
       " [3, 4],\n",
       " [3, 0],\n",
       " [4, 11],\n",
       " [4, 3],\n",
       " [4, 0],\n",
       " [4, 8],\n",
       " [0, 3],\n",
       " [0, 4],\n",
       " [0, 8],\n",
       " [0, 2],\n",
       " [8, 4],\n",
       " [8, 0],\n",
       " [8, 2],\n",
       " [8, 8],\n",
       " [2, 0],\n",
       " [2, 8],\n",
       " [2, 8],\n",
       " [2, 7],\n",
       " [8, 8],\n",
       " [8, 2],\n",
       " [8, 7],\n",
       " [8, 5],\n",
       " [7, 2],\n",
       " [7, 8],\n",
       " [7, 5],\n",
       " [7, 2],\n",
       " [5, 8],\n",
       " [5, 7],\n",
       " [5, 2],\n",
       " [5, 8],\n",
       " [2, 7],\n",
       " [2, 5],\n",
       " [2, 8],\n",
       " [2, 0],\n",
       " [8, 5],\n",
       " [8, 2],\n",
       " [8, 0],\n",
       " [8, 11],\n",
       " [0, 2],\n",
       " [0, 8],\n",
       " [0, 11],\n",
       " [0, 2],\n",
       " [11, 8],\n",
       " [11, 0],\n",
       " [11, 2],\n",
       " [11, 12],\n",
       " [2, 0],\n",
       " [2, 11],\n",
       " [2, 12],\n",
       " [2, 2],\n",
       " [12, 11],\n",
       " [12, 2],\n",
       " [12, 2],\n",
       " [12, 4],\n",
       " [2, 2],\n",
       " [2, 12],\n",
       " [2, 4],\n",
       " [2, 4],\n",
       " [4, 12],\n",
       " [4, 2],\n",
       " [4, 4],\n",
       " [4, 2],\n",
       " [4, 2],\n",
       " [4, 4],\n",
       " [4, 2],\n",
       " [4, 12],\n",
       " [2, 4],\n",
       " [2, 4],\n",
       " [2, 12],\n",
       " [2, 2],\n",
       " [12, 4],\n",
       " [12, 2],\n",
       " [12, 2],\n",
       " [12, 3],\n",
       " [2, 2],\n",
       " [2, 12],\n",
       " [2, 3],\n",
       " [2, 4],\n",
       " [3, 12],\n",
       " [3, 2],\n",
       " [3, 4],\n",
       " [3, 3],\n",
       " [4, 2],\n",
       " [4, 3],\n",
       " [4, 3],\n",
       " [4, 12],\n",
       " [3, 3],\n",
       " [3, 4],\n",
       " [3, 12],\n",
       " [3, 10],\n",
       " [12, 4],\n",
       " [12, 3],\n",
       " [12, 10],\n",
       " [12, 1],\n",
       " [10, 3],\n",
       " [10, 12],\n",
       " [10, 1],\n",
       " [10, 9],\n",
       " [1, 12],\n",
       " [1, 10],\n",
       " [1, 9],\n",
       " [1, 2],\n",
       " [9, 10],\n",
       " [9, 1],\n",
       " [9, 2],\n",
       " [9, 0],\n",
       " [2, 1],\n",
       " [2, 9],\n",
       " [2, 0],\n",
       " [2, 8],\n",
       " [0, 9],\n",
       " [0, 2],\n",
       " [0, 8],\n",
       " [0, 6],\n",
       " [8, 2],\n",
       " [8, 0],\n",
       " [8, 6],\n",
       " [8, 0],\n",
       " [6, 0],\n",
       " [6, 8],\n",
       " [6, 0],\n",
       " [6, 8],\n",
       " [0, 8],\n",
       " [0, 6],\n",
       " [0, 8],\n",
       " [0, 2]]"
      ]
     },
     "execution_count": 11,
     "metadata": {},
     "output_type": "execute_result"
    }
   ],
   "source": [
    "skip_grams"
   ]
  },
  {
   "cell_type": "code",
   "execution_count": 12,
   "metadata": {},
   "outputs": [],
   "source": [
    "def make_data(skip_grams):\n",
    "    input_data = []\n",
    "    output_data = []\n",
    "    for a, b in skip_grams:\n",
    "        input_data.append(np.eye(voc_size)[a])\n",
    "        output_data.append(b)\n",
    "    return input_data, output_data"
   ]
  },
  {
   "cell_type": "code",
   "execution_count": 13,
   "metadata": {},
   "outputs": [],
   "source": [
    "input_data, output_data = make_data(skip_grams)\n",
    "input_data, output_data = torch.Tensor(input_data), torch.LongTensor(output_data)\n",
    "dataset = Data.TensorDataset(input_data, output_data)\n",
    "loader = Data.DataLoader(dataset, batch_size, True)"
   ]
  },
  {
   "cell_type": "markdown",
   "metadata": {},
   "source": [
    "### 构建模型"
   ]
  },
  {
   "cell_type": "code",
   "execution_count": 15,
   "metadata": {},
   "outputs": [],
   "source": [
    "class Word2vec(nn.Module):\n",
    "    def __init__(self):\n",
    "        super(Word2vec, self).__init__()\n",
    "        \n",
    "        self.W = nn.Parameter(torch.randn(voc_size, embedding_size).type(dtype))\n",
    "        self.V = nn.Parameter(torch.randn(embedding_size, voc_size).type(dtype))\n",
    "        \n",
    "    def forward(self, X):\n",
    "        # X : [batch_size, vocab_size] one-hot\n",
    "        hidden_layer = torch.matmul(X, self.W)  # hidden_layer : [batch_size, embedding_size]\n",
    "        output_layer = torch.matmul(hidden_layer, self.V) # output_layer : [batch_size, voc_size]\n",
    "        return output_layer"
   ]
  },
  {
   "cell_type": "code",
   "execution_count": 17,
   "metadata": {},
   "outputs": [],
   "source": [
    "model = Word2vec().to(device)\n",
    "criterion = nn.CrossEntropyLoss().to(device)\n",
    "optimizer = optim.Adam(model.parameters(), lr=1e-3)"
   ]
  },
  {
   "cell_type": "markdown",
   "metadata": {},
   "source": [
    "### 训练"
   ]
  },
  {
   "cell_type": "code",
   "execution_count": 20,
   "metadata": {},
   "outputs": [
    {
     "name": "stdout",
     "output_type": "stream",
     "text": [
      "1000 0 2.152482748031616\n",
      "1000 1 1.9865167140960693\n",
      "1000 2 2.026981830596924\n",
      "1000 3 1.8475193977355957\n",
      "1000 4 2.0837037563323975\n",
      "1000 5 2.20550537109375\n",
      "1000 6 1.967031717300415\n",
      "1000 7 1.6942301988601685\n",
      "1000 8 2.133023262023926\n",
      "1000 9 1.9756050109863281\n",
      "1000 10 1.757044792175293\n",
      "1000 11 2.1352717876434326\n",
      "1000 12 2.267244577407837\n",
      "1000 13 2.133307456970215\n",
      "1000 14 2.0837016105651855\n",
      "1000 15 1.7351120710372925\n",
      "1000 16 2.3725967407226562\n",
      "1000 17 2.1537933349609375\n",
      "1000 18 2.126396894454956\n",
      "1000 19 2.625025749206543\n",
      "1000 20 1.8604875802993774\n",
      "2000 0 2.4623634815216064\n",
      "2000 1 2.061760902404785\n",
      "2000 2 2.212667226791382\n",
      "2000 3 2.2853450775146484\n",
      "2000 4 2.0874717235565186\n",
      "2000 5 1.866732120513916\n",
      "2000 6 2.035996437072754\n",
      "2000 7 2.0916199684143066\n",
      "2000 8 1.8228882551193237\n",
      "2000 9 1.7618165016174316\n",
      "2000 10 1.924320101737976\n",
      "2000 11 1.986958384513855\n",
      "2000 12 1.8284839391708374\n",
      "2000 13 2.3623318672180176\n",
      "2000 14 2.1919727325439453\n",
      "2000 15 1.9248788356781006\n",
      "2000 16 1.8745734691619873\n",
      "2000 17 2.06535267829895\n",
      "2000 18 2.2929413318634033\n",
      "2000 19 2.014354705810547\n",
      "2000 20 2.1087400913238525\n"
     ]
    }
   ],
   "source": [
    "for epoch in range(2000):\n",
    "    for i, (batch_x, batch_y) in enumerate(loader):\n",
    "        batch_x, batch_y = batch_x.to(device), batch_y.to(device)\n",
    "        pred = model(batch_x)\n",
    "        loss = criterion(pred, batch_y)\n",
    "        if (epoch+1) % 1000 == 0:\n",
    "            print(epoch+1, i, loss.item())\n",
    "        \n",
    "        optimizer.zero_grad()\n",
    "        loss.backward()\n",
    "        optimizer.step()"
   ]
  },
  {
   "cell_type": "code",
   "execution_count": 21,
   "metadata": {},
   "outputs": [
    {
     "data": {
      "image/png": "[encoded data removed]",
      "text/plain": [
       "<Figure size 432x288 with 1 Axes>"
      ]
     },
     "metadata": {
      "needs_background": "light"
     },
     "output_type": "display_data"
    }
   ],
   "source": [
    "for i, label in enumerate(vocab):\n",
    "    W, WT = model.parameters()\n",
    "    x,y = float(W[i][0]), float(W[i][1])\n",
    "    plt.scatter(x,y)\n",
    "    plt.annotate(label, xy=(x, y), xytext=(5, 2), textcoords='offset points', ha='right', va='bottom')\n",
    "plt.show()"
   ]
  },
  {
   "cell_type": "code",
   "execution_count": null,
   "metadata": {},
   "outputs": [],
   "source": []
  }
 ],
 "metadata": {
  "kernelspec": {
   "display_name": "Python 3",
   "language": "python",
   "name": "python3"
  },
  "language_info": {
   "codemirror_mode": {
    "name": "ipython",
    "version": 3
   },
   "file_extension": ".py",
   "mimetype": "text/x-python",
   "name": "python",
   "nbconvert_exporter": "python",
   "pygments_lexer": "ipython3",
   "version": "3.7.8"
  }
 },
 "nbformat": 4,
 "nbformat_minor": 4
}